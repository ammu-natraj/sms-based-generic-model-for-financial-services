{
  "nbformat": 4,
  "nbformat_minor": 0,
  "metadata": {
    "colab": {
      "name": "Copy of finalll.ipynb",
      "provenance": [],
      "collapsed_sections": [],
      "toc_visible": true
    },
    "kernelspec": {
      "name": "python3",
      "display_name": "Python 3"
    }
  },
  "cells": [
    {
      "cell_type": "code",
      "metadata": {
        "id": "avsqbKpIUcP7",
        "colab_type": "code",
        "outputId": "39fa662c-c649-44c2-cb92-6a37966f1f13",
        "colab": {
          "base_uri": "https://localhost:8080/",
          "height": 578
        }
      },
      "source": [
        "!pip install numpy\n",
        "!pip install pandas\n",
        "!pip install tensorflow==1.4.0\n",
        "!pip install keras==2.1.2\n",
        "!pip install sklearn\n",
        "!pip install datefinder"
      ],
      "execution_count": 1,
      "outputs": [
        {
          "output_type": "stream",
          "text": [
            "Requirement already satisfied: numpy in /usr/local/lib/python3.6/dist-packages (1.18.2)\n",
            "Requirement already satisfied: pandas in /usr/local/lib/python3.6/dist-packages (1.0.3)\n",
            "Requirement already satisfied: pytz>=2017.2 in /usr/local/lib/python3.6/dist-packages (from pandas) (2018.9)\n",
            "Requirement already satisfied: python-dateutil>=2.6.1 in /usr/local/lib/python3.6/dist-packages (from pandas) (2.8.1)\n",
            "Requirement already satisfied: numpy>=1.13.3 in /usr/local/lib/python3.6/dist-packages (from pandas) (1.18.2)\n",
            "Requirement already satisfied: six>=1.5 in /usr/local/lib/python3.6/dist-packages (from python-dateutil>=2.6.1->pandas) (1.12.0)\n",
            "Requirement already satisfied: tensorflow==1.4.0 in /usr/local/lib/python3.6/dist-packages (1.4.0)\n",
            "Requirement already satisfied: protobuf>=3.3.0 in /usr/local/lib/python3.6/dist-packages (from tensorflow==1.4.0) (3.10.0)\n",
            "Requirement already satisfied: numpy>=1.12.1 in /usr/local/lib/python3.6/dist-packages (from tensorflow==1.4.0) (1.18.2)\n",
            "Requirement already satisfied: wheel>=0.26 in /usr/local/lib/python3.6/dist-packages (from tensorflow==1.4.0) (0.34.2)\n",
            "Requirement already satisfied: enum34>=1.1.6 in /usr/local/lib/python3.6/dist-packages (from tensorflow==1.4.0) (1.1.10)\n",
            "Requirement already satisfied: tensorflow-tensorboard<0.5.0,>=0.4.0rc1 in /usr/local/lib/python3.6/dist-packages (from tensorflow==1.4.0) (0.4.0)\n",
            "Requirement already satisfied: six>=1.10.0 in /usr/local/lib/python3.6/dist-packages (from tensorflow==1.4.0) (1.12.0)\n",
            "Requirement already satisfied: setuptools in /usr/local/lib/python3.6/dist-packages (from protobuf>=3.3.0->tensorflow==1.4.0) (46.0.0)\n",
            "Requirement already satisfied: html5lib==0.9999999 in /usr/local/lib/python3.6/dist-packages (from tensorflow-tensorboard<0.5.0,>=0.4.0rc1->tensorflow==1.4.0) (0.9999999)\n",
            "Requirement already satisfied: markdown>=2.6.8 in /usr/local/lib/python3.6/dist-packages (from tensorflow-tensorboard<0.5.0,>=0.4.0rc1->tensorflow==1.4.0) (3.2.1)\n",
            "Requirement already satisfied: bleach==1.5.0 in /usr/local/lib/python3.6/dist-packages (from tensorflow-tensorboard<0.5.0,>=0.4.0rc1->tensorflow==1.4.0) (1.5.0)\n",
            "Requirement already satisfied: werkzeug>=0.11.10 in /usr/local/lib/python3.6/dist-packages (from tensorflow-tensorboard<0.5.0,>=0.4.0rc1->tensorflow==1.4.0) (1.0.1)\n",
            "Requirement already satisfied: keras==2.1.2 in /usr/local/lib/python3.6/dist-packages (2.1.2)\n",
            "Requirement already satisfied: numpy>=1.9.1 in /usr/local/lib/python3.6/dist-packages (from keras==2.1.2) (1.18.2)\n",
            "Requirement already satisfied: pyyaml in /usr/local/lib/python3.6/dist-packages (from keras==2.1.2) (3.13)\n",
            "Requirement already satisfied: scipy>=0.14 in /usr/local/lib/python3.6/dist-packages (from keras==2.1.2) (1.4.1)\n",
            "Requirement already satisfied: six>=1.9.0 in /usr/local/lib/python3.6/dist-packages (from keras==2.1.2) (1.12.0)\n",
            "Requirement already satisfied: sklearn in /usr/local/lib/python3.6/dist-packages (0.0)\n",
            "Requirement already satisfied: scikit-learn in /usr/local/lib/python3.6/dist-packages (from sklearn) (0.22.2.post1)\n",
            "Requirement already satisfied: scipy>=0.17.0 in /usr/local/lib/python3.6/dist-packages (from scikit-learn->sklearn) (1.4.1)\n",
            "Requirement already satisfied: joblib>=0.11 in /usr/local/lib/python3.6/dist-packages (from scikit-learn->sklearn) (0.14.1)\n",
            "Requirement already satisfied: numpy>=1.11.0 in /usr/local/lib/python3.6/dist-packages (from scikit-learn->sklearn) (1.18.2)\n",
            "Requirement already satisfied: datefinder in /usr/local/lib/python3.6/dist-packages (0.7.0)\n",
            "Requirement already satisfied: regex>=2017.02.08 in /usr/local/lib/python3.6/dist-packages (from datefinder) (2019.12.20)\n",
            "Requirement already satisfied: pytz in /usr/local/lib/python3.6/dist-packages (from datefinder) (2018.9)\n",
            "Requirement already satisfied: python-dateutil>=2.4.2 in /usr/local/lib/python3.6/dist-packages (from datefinder) (2.8.1)\n",
            "Requirement already satisfied: six>=1.5 in /usr/local/lib/python3.6/dist-packages (from python-dateutil>=2.4.2->datefinder) (1.12.0)\n"
          ],
          "name": "stdout"
        }
      ]
    },
    {
      "cell_type": "code",
      "metadata": {
        "id": "6BYdnhMhUpk-",
        "colab_type": "code",
        "outputId": "25a89f95-428f-45ee-8572-01e77cedffb0",
        "colab": {
          "base_uri": "https://localhost:8080/",
          "height": 389
        }
      },
      "source": [
        "import pandas as pd\n",
        "import numpy as np\n",
        "import matplotlib.pyplot as plt\n",
        "import seaborn as sns\n",
        "from sklearn.model_selection import train_test_split\n",
        "from sklearn.preprocessing import LabelEncoder\n",
        "from keras.models import Model\n",
        "from keras.layers import LSTM, Activation, Dense, Dropout, Input, Embedding, SpatialDropout1D\n",
        "from keras.optimizers import RMSprop\n",
        "from keras.preprocessing.text import Tokenizer\n",
        "from keras.preprocessing import sequence\n",
        "from keras.utils import to_categorical\n",
        "from keras.callbacks import EarlyStopping\n",
        "%tensorflow_version 1.x\n",
        "%matplotlib inline\n",
        "import tensorflow"
      ],
      "execution_count": 2,
      "outputs": [
        {
          "output_type": "stream",
          "text": [
            "/usr/local/lib/python3.6/dist-packages/statsmodels/tools/_testing.py:19: FutureWarning: pandas.util.testing is deprecated. Use the functions in the public API at pandas.testing instead.\n",
            "  import pandas.util.testing as tm\n",
            "Using TensorFlow backend.\n",
            "/usr/local/lib/python3.6/dist-packages/tensorflow/python/framework/dtypes.py:469: FutureWarning: Passing (type, 1) or '1type' as a synonym of type is deprecated; in a future version of numpy, it will be understood as (type, (1,)) / '(1,)type'.\n",
            "  _np_qint8 = np.dtype([(\"qint8\", np.int8, 1)])\n",
            "/usr/local/lib/python3.6/dist-packages/tensorflow/python/framework/dtypes.py:470: FutureWarning: Passing (type, 1) or '1type' as a synonym of type is deprecated; in a future version of numpy, it will be understood as (type, (1,)) / '(1,)type'.\n",
            "  _np_quint8 = np.dtype([(\"quint8\", np.uint8, 1)])\n",
            "/usr/local/lib/python3.6/dist-packages/tensorflow/python/framework/dtypes.py:471: FutureWarning: Passing (type, 1) or '1type' as a synonym of type is deprecated; in a future version of numpy, it will be understood as (type, (1,)) / '(1,)type'.\n",
            "  _np_qint16 = np.dtype([(\"qint16\", np.int16, 1)])\n",
            "/usr/local/lib/python3.6/dist-packages/tensorflow/python/framework/dtypes.py:472: FutureWarning: Passing (type, 1) or '1type' as a synonym of type is deprecated; in a future version of numpy, it will be understood as (type, (1,)) / '(1,)type'.\n",
            "  _np_quint16 = np.dtype([(\"quint16\", np.uint16, 1)])\n",
            "/usr/local/lib/python3.6/dist-packages/tensorflow/python/framework/dtypes.py:473: FutureWarning: Passing (type, 1) or '1type' as a synonym of type is deprecated; in a future version of numpy, it will be understood as (type, (1,)) / '(1,)type'.\n",
            "  _np_qint32 = np.dtype([(\"qint32\", np.int32, 1)])\n",
            "/usr/local/lib/python3.6/dist-packages/tensorflow/python/framework/dtypes.py:476: FutureWarning: Passing (type, 1) or '1type' as a synonym of type is deprecated; in a future version of numpy, it will be understood as (type, (1,)) / '(1,)type'.\n",
            "  np_resource = np.dtype([(\"resource\", np.ubyte, 1)])\n",
            "/usr/lib/python3.6/importlib/_bootstrap.py:219: RuntimeWarning: compiletime version 3.5 of module 'tensorflow.python.framework.fast_tensor_util' does not match runtime version 3.6\n",
            "  return f(*args, **kwds)\n"
          ],
          "name": "stderr"
        },
        {
          "output_type": "display_data",
          "data": {
            "text/html": [
              "<p style=\"color: red;\">\n",
              "The default version of TensorFlow in Colab will switch to TensorFlow 2.x on the 27th of March, 2020.<br>\n",
              "We recommend you <a href=\"https://www.tensorflow.org/guide/migrate\" target=\"_blank\">upgrade</a> now\n",
              "or ensure your notebook will continue to use TensorFlow 1.x via the <code>%tensorflow_version 1.x</code> magic:\n",
              "<a href=\"https://colab.research.google.com/notebooks/tensorflow_version.ipynb\" target=\"_blank\">more info</a>.</p>\n"
            ],
            "text/plain": [
              "<IPython.core.display.HTML object>"
            ]
          },
          "metadata": {
            "tags": []
          }
        },
        {
          "output_type": "stream",
          "text": [
            "TensorFlow is already loaded. Please restart the runtime to change versions.\n"
          ],
          "name": "stdout"
        }
      ]
    },
    {
      "cell_type": "code",
      "metadata": {
        "id": "HVluhnOdU5wN",
        "colab_type": "code",
        "outputId": "26bbfb36-517b-4093-e64e-271270788d92",
        "colab": {
          "base_uri": "https://localhost:8080/",
          "height": 34
        }
      },
      "source": [
        "from google.colab import drive\n",
        "drive.mount('/content/drive')"
      ],
      "execution_count": 3,
      "outputs": [
        {
          "output_type": "stream",
          "text": [
            "Drive already mounted at /content/drive; to attempt to forcibly remount, call drive.mount(\"/content/drive\", force_remount=True).\n"
          ],
          "name": "stdout"
        }
      ]
    },
    {
      "cell_type": "code",
      "metadata": {
        "id": "Bgx2dcC4WAUH",
        "colab_type": "code",
        "outputId": "34e19954-c4e1-41bd-f073-f72fdc768a92",
        "colab": {
          "base_uri": "https://localhost:8080/",
          "height": 204
        }
      },
      "source": [
        "df = pd.read_csv('/content/drive/My Drive/Colab Notebooks/Dataset_HamSpam.csv',delimiter=',')\n",
        "df.head()"
      ],
      "execution_count": 23,
      "outputs": [
        {
          "output_type": "execute_result",
          "data": {
            "text/html": [
              "<div>\n",
              "<style scoped>\n",
              "    .dataframe tbody tr th:only-of-type {\n",
              "        vertical-align: middle;\n",
              "    }\n",
              "\n",
              "    .dataframe tbody tr th {\n",
              "        vertical-align: top;\n",
              "    }\n",
              "\n",
              "    .dataframe thead th {\n",
              "        text-align: right;\n",
              "    }\n",
              "</style>\n",
              "<table border=\"1\" class=\"dataframe\">\n",
              "  <thead>\n",
              "    <tr style=\"text-align: right;\">\n",
              "      <th></th>\n",
              "      <th>Label</th>\n",
              "      <th>Category</th>\n",
              "      <th>Biller</th>\n",
              "      <th>Messages</th>\n",
              "    </tr>\n",
              "  </thead>\n",
              "  <tbody>\n",
              "    <tr>\n",
              "      <th>0</th>\n",
              "      <td>Ham</td>\n",
              "      <td>DTH</td>\n",
              "      <td>Airtel DigitalTv</td>\n",
              "      <td>Validity of your Airtel DigitalTV ID 30157391...</td>\n",
              "    </tr>\n",
              "    <tr>\n",
              "      <th>1</th>\n",
              "      <td>Ham</td>\n",
              "      <td>DTH</td>\n",
              "      <td>Airtel DigitalTv</td>\n",
              "      <td>Validity of your Airtel DigitalTV ID 30157391...</td>\n",
              "    </tr>\n",
              "    <tr>\n",
              "      <th>2</th>\n",
              "      <td>Ham</td>\n",
              "      <td>DTH</td>\n",
              "      <td>Airtel DigitalTv</td>\n",
              "      <td>Validity of your Airtel DigitalTV ID 30157391...</td>\n",
              "    </tr>\n",
              "    <tr>\n",
              "      <th>3</th>\n",
              "      <td>Ham</td>\n",
              "      <td>DTH</td>\n",
              "      <td>Airtel DigitalTv</td>\n",
              "      <td>Validity of your Airtel DigitalTV ID 30157391...</td>\n",
              "    </tr>\n",
              "    <tr>\n",
              "      <th>4</th>\n",
              "      <td>Ham</td>\n",
              "      <td>DTH</td>\n",
              "      <td>Airtel DigitalTv</td>\n",
              "      <td>Validity of your Airtel DigitalTV ID 30157391...</td>\n",
              "    </tr>\n",
              "  </tbody>\n",
              "</table>\n",
              "</div>"
            ],
            "text/plain": [
              "  Label  ...                                           Messages\n",
              "0   Ham  ...   Validity of your Airtel DigitalTV ID 30157391...\n",
              "1   Ham  ...   Validity of your Airtel DigitalTV ID 30157391...\n",
              "2   Ham  ...   Validity of your Airtel DigitalTV ID 30157391...\n",
              "3   Ham  ...   Validity of your Airtel DigitalTV ID 30157391...\n",
              "4   Ham  ...   Validity of your Airtel DigitalTV ID 30157391...\n",
              "\n",
              "[5 rows x 4 columns]"
            ]
          },
          "metadata": {
            "tags": []
          },
          "execution_count": 23
        }
      ]
    },
    {
      "cell_type": "code",
      "metadata": {
        "id": "D1Z2sCT3XdFZ",
        "colab_type": "code",
        "outputId": "2b475dfc-a3ad-426d-8945-c698bc4915c3",
        "colab": {
          "base_uri": "https://localhost:8080/",
          "height": 312
        }
      },
      "source": [
        "sns.countplot(df.Label)\n",
        "plt.xlabel('Label')\n",
        "plt.title('Number of ham and spam messages')"
      ],
      "execution_count": 5,
      "outputs": [
        {
          "output_type": "execute_result",
          "data": {
            "text/plain": [
              "Text(0.5, 1.0, 'Number of ham and spam messages')"
            ]
          },
          "metadata": {
            "tags": []
          },
          "execution_count": 5
        },
        {
          "output_type": "display_data",
          "data": {
            "image/png": "[encoded data removed]",
            "text/plain": [
              "<Figure size 432x288 with 1 Axes>"
            ]
          },
          "metadata": {
            "tags": []
          }
        }
      ]
    },
    {
      "cell_type": "code",
      "metadata": {
        "id": "5BKe7YIZWa53",
        "colab_type": "code",
        "outputId": "efc68d72-025c-40f1-f3b7-1ab8098073d9",
        "colab": {
          "base_uri": "https://localhost:8080/",
          "height": 170
        }
      },
      "source": [
        "df.drop(['Category', 'Biller'],axis=1,inplace=True)\n",
        "df.info()"
      ],
      "execution_count": 6,
      "outputs": [
        {
          "output_type": "stream",
          "text": [
            "<class 'pandas.core.frame.DataFrame'>\n",
            "RangeIndex: 9324 entries, 0 to 9323\n",
            "Data columns (total 2 columns):\n",
            " #   Column    Non-Null Count  Dtype \n",
            "---  ------    --------------  ----- \n",
            " 0   Label     9324 non-null   object\n",
            " 1   Messages  9324 non-null   object\n",
            "dtypes: object(2)\n",
            "memory usage: 145.8+ KB\n"
          ],
          "name": "stdout"
        }
      ]
    },
    {
      "cell_type": "code",
      "metadata": {
        "id": "1lx5yAsXYVGL",
        "colab_type": "code",
        "colab": {}
      },
      "source": [
        "num_of_categories = 3000\n",
        "shuffled = df.reindex(np.random.permutation(df.index))\n",
        "Spam = shuffled[shuffled['Label'] == 'Spam'][:num_of_categories]\n",
        "Ham = shuffled[shuffled['Label'] == 'Ham'][:num_of_categories]\n",
        "concated = pd.concat([Spam,Ham], ignore_index=True)\n",
        "#Shuffle the dataset\n",
        "concated = concated.reindex(np.random.permutation(concated.index))"
      ],
      "execution_count": 0,
      "outputs": []
    },
    {
      "cell_type": "code",
      "metadata": {
        "id": "42DWB7_gXi1L",
        "colab_type": "code",
        "colab": {}
      },
      "source": [
        "X = df.Messages\n",
        "Y = df.Label\n",
        "le = LabelEncoder()\n",
        "Y = le.fit_transform(Y)\n",
        "Y = Y.reshape(-1,1)"
      ],
      "execution_count": 0,
      "outputs": []
    },
    {
      "cell_type": "code",
      "metadata": {
        "id": "_FeYMqLDYEi8",
        "colab_type": "code",
        "colab": {}
      },
      "source": [
        "X_train,X_test,Y_train,Y_test = train_test_split(X,Y,test_size=0.15)"
      ],
      "execution_count": 0,
      "outputs": []
    },
    {
      "cell_type": "code",
      "metadata": {
        "id": "LAZyBE_QYKOh",
        "colab_type": "code",
        "colab": {}
      },
      "source": [
        "max_words = 5000\n",
        "max_len = 250\n",
        "tok = Tokenizer(num_words=max_words)\n",
        "tok.fit_on_texts(X_train)\n",
        "sequences = tok.texts_to_sequences(X_train)\n",
        "sequences_matrix = sequence.pad_sequences(sequences,maxlen=max_len)"
      ],
      "execution_count": 0,
      "outputs": []
    },
    {
      "cell_type": "code",
      "metadata": {
        "id": "gzC6uG0MZLTx",
        "colab_type": "code",
        "colab": {}
      },
      "source": [
        "def RNN():\n",
        "    inputs = Input(name='inputs',shape=[max_len])\n",
        "    layer = Embedding(max_words,50,input_length=max_len)(inputs)\n",
        "    layer = LSTM(64)(layer)\n",
        "    layer = Dense(256,name='FC1')(layer)\n",
        "    layer = Activation('relu')(layer)\n",
        "    layer = Dropout(0.5)(layer)\n",
        "    layer = Dense(1,name='out_layer')(layer)\n",
        "    layer = Activation('sigmoid')(layer)\n",
        "    model = Model(inputs=inputs,outputs=layer)\n",
        "    return model"
      ],
      "execution_count": 0,
      "outputs": []
    },
    {
      "cell_type": "code",
      "metadata": {
        "id": "zVBPwy48ZVKk",
        "colab_type": "code",
        "outputId": "90bf2bec-a4df-401e-c038-f3cea48a4cf1",
        "colab": {
          "base_uri": "https://localhost:8080/",
          "height": 408
        }
      },
      "source": [
        "model = RNN()\n",
        "model.summary()\n",
        "model.compile(loss='binary_crossentropy',optimizer=RMSprop(),metrics=['accuracy'])"
      ],
      "execution_count": 12,
      "outputs": [
        {
          "output_type": "stream",
          "text": [
            "_________________________________________________________________\n",
            "Layer (type)                 Output Shape              Param #   \n",
            "=================================================================\n",
            "inputs (InputLayer)          (None, 250)               0         \n",
            "_________________________________________________________________\n",
            "embedding_1 (Embedding)      (None, 250, 50)           250000    \n",
            "_________________________________________________________________\n",
            "lstm_1 (LSTM)                (None, 64)                29440     \n",
            "_________________________________________________________________\n",
            "FC1 (Dense)                  (None, 256)               16640     \n",
            "_________________________________________________________________\n",
            "activation_1 (Activation)    (None, 256)               0         \n",
            "_________________________________________________________________\n",
            "dropout_1 (Dropout)          (None, 256)               0         \n",
            "_________________________________________________________________\n",
            "out_layer (Dense)            (None, 1)                 257       \n",
            "_________________________________________________________________\n",
            "activation_2 (Activation)    (None, 1)                 0         \n",
            "=================================================================\n",
            "Total params: 296,337\n",
            "Trainable params: 296,337\n",
            "Non-trainable params: 0\n",
            "_________________________________________________________________\n"
          ],
          "name": "stdout"
        }
      ]
    },
    {
      "cell_type": "code",
      "metadata": {
        "id": "1uCVEibJZYzj",
        "colab_type": "code",
        "outputId": "53491404-26f7-4a45-b9b3-a9963cea3169",
        "colab": {
          "base_uri": "https://localhost:8080/",
          "height": 119
        }
      },
      "source": [
        " model.fit(sequences_matrix,Y_train,batch_size=325,epochs=2, validation_split=0.2,callbacks=[EarlyStopping(monitor='val_loss',min_delta=0.0001)])"
      ],
      "execution_count": 13,
      "outputs": [
        {
          "output_type": "stream",
          "text": [
            "Train on 6340 samples, validate on 1585 samples\n",
            "Epoch 1/2\n",
            "6340/6340 [==============================] - 36s 6ms/step - loss: 0.3650 - acc: 0.8880 - val_loss: 0.0455 - val_acc: 0.9994\n",
            "Epoch 2/2\n",
            "6340/6340 [==============================] - 35s 6ms/step - loss: 0.0168 - acc: 0.9992 - val_loss: 0.0034 - val_acc: 0.9994\n"
          ],
          "name": "stdout"
        },
        {
          "output_type": "execute_result",
          "data": {
            "text/plain": [
              "<keras.callbacks.History at 0x7fee56197f98>"
            ]
          },
          "metadata": {
            "tags": []
          },
          "execution_count": 13
        }
      ]
    },
    {
      "cell_type": "code",
      "metadata": {
        "id": "U_CSqdaUZjZ2",
        "colab_type": "code",
        "colab": {}
      },
      "source": [
        "test_sequences = tok.texts_to_sequences(X_test)\n",
        "test_sequences_matrix = sequence.pad_sequences(test_sequences,maxlen=max_len)"
      ],
      "execution_count": 0,
      "outputs": []
    },
    {
      "cell_type": "code",
      "metadata": {
        "id": "nehfSXcJZvVQ",
        "colab_type": "code",
        "outputId": "614bbd6c-804b-4af3-a8b4-c7661bb60fc4",
        "colab": {
          "base_uri": "https://localhost:8080/",
          "height": 34
        }
      },
      "source": [
        "accr = model.evaluate(test_sequences_matrix,Y_test)"
      ],
      "execution_count": 15,
      "outputs": [
        {
          "output_type": "stream",
          "text": [
            "1399/1399 [==============================] - 3s 2ms/step\n"
          ],
          "name": "stdout"
        }
      ]
    },
    {
      "cell_type": "code",
      "metadata": {
        "id": "GEwrK-BwZ4r2",
        "colab_type": "code",
        "outputId": "38b2ebe5-8e4d-41b8-b4ac-06f1f54d22d2",
        "colab": {
          "base_uri": "https://localhost:8080/",
          "height": 68
        }
      },
      "source": [
        "print('Test set\\n  Loss: {:0.3f}\\n  Accuracy: {:0.5f}'.format(accr[0],accr[1]))"
      ],
      "execution_count": 16,
      "outputs": [
        {
          "output_type": "stream",
          "text": [
            "Test set\n",
            "  Loss: 0.003\n",
            "  Accuracy: 0.99929\n"
          ],
          "name": "stdout"
        }
      ]
    },
    {
      "cell_type": "code",
      "metadata": {
        "id": "8AOnWA7MlWOX",
        "colab_type": "code",
        "outputId": "86a7f30f-6435-4ca8-d3fc-d92d7ac8f23d",
        "colab": {
          "base_uri": "https://localhost:8080/",
          "height": 1000
        }
      },
      "source": [
        "from keras.models import Sequential\n",
        "data = pd.read_csv('/content/drive/My Drive/Colab Notebooks/Dataset_Categories.csv',encoding ='unicode_escape', usecols=['Messages', 'Category'])\n",
        "s_num_of_categories = 250\n",
        "s_shuffled = data.reindex(np.random.permutation(data.index))\n",
        "Prepaid = s_shuffled[s_shuffled['Category'] == 'Prepaid'][:s_num_of_categories]\n",
        "Electricity = s_shuffled[s_shuffled['Category'] == 'Electricity'][:s_num_of_categories]\n",
        "DTH = s_shuffled[s_shuffled['Category'] == 'DTH'][:s_num_of_categories]\n",
        "Postpaid = s_shuffled[s_shuffled['Category'] == 'Postpaid'][:s_num_of_categories]\n",
        "#Extra = s_shuffled[s_shuffled['Category'] == 'Extra'][:s_num_of_categories]\n",
        "s_concated = pd.concat([Prepaid,Electricity,DTH,Postpaid], ignore_index=True)\n",
        "s_concated = s_concated.reindex(np.random.permutation(s_concated.index))\n",
        "s_concated['LABEL'] = 0\n",
        "s_concated.loc[s_concated['Category'] == 'Prepaid', 'LABEL'] = 0\n",
        "s_concated.loc[s_concated['Category'] == 'Electricity', 'LABEL'] = 1\n",
        "s_concated.loc[s_concated['Category'] == 'DTH', 'LABEL'] = 2\n",
        "s_concated.loc[s_concated['Category'] == 'Postpaid', 'LABEL'] = 3\n",
        "#s_concated.loc[s_concated['Category'] == 'Extra', 'LABEL'] = 4\n",
        "labels = to_categorical(s_concated['LABEL'], num_classes=4)\n",
        "if 'Category' in s_concated.keys():\n",
        "    s_concated.drop(['Category'], axis=1)\n",
        "'''\n",
        "  [1. 0. 0. 0.] e\n",
        "  [0. 1. 0. 0.] b\n",
        "  [0. 0. 1. 0.] t\n",
        "  [0. 0. 0. 1.] m\n",
        "'''\n",
        "\n",
        "s_n_most_common_words = 200\n",
        "s_max_len = 70\n",
        "tokenizer = Tokenizer(num_words=s_n_most_common_words, filters='!\"#$%&()*+,-./:;<=>?@[\\]^_`{|}~', lower=True)\n",
        "tokenizer.fit_on_texts(s_concated['Messages'].values)\n",
        "sequences = tokenizer.texts_to_sequences(s_concated['Messages'].values)\n",
        "s_word_index = tokenizer.word_index\n",
        "X = sequence.pad_sequences(sequences, maxlen=max_len)\n",
        "X_train, X_test, y_train, y_test = train_test_split(X , labels, test_size=0.20)\n",
        "s_epochs = 35\n",
        "s_emb_dim = 70\n",
        "s_batch_size = 10\n",
        "s_model = Sequential()\n",
        "s_model.add(Embedding(s_n_most_common_words,s_emb_dim, input_length=X.shape[1]))\n",
        "s_model.add(SpatialDropout1D(0.5))\n",
        "s_model.add(LSTM(64, dropout=0.7, recurrent_dropout=0.5))\n",
        "s_model.add(Dense(4, activation='softmax'))\n",
        "s_model.compile(optimizer='adam', loss='categorical_crossentropy', metrics=['acc'])\n",
        "history = s_model.fit(X_train, y_train, epochs=s_epochs, batch_size=s_batch_size,validation_split=0.2,callbacks=[EarlyStopping(monitor='val_loss',patience=7, min_delta=0.0001)])\n",
        "accr = s_model.evaluate(X_test,y_test)"
      ],
      "execution_count": 24,
      "outputs": [
        {
          "output_type": "stream",
          "text": [
            "Train on 103 samples, validate on 26 samples\n",
            "Epoch 1/35\n",
            "103/103 [==============================] - 3s 32ms/step - loss: 1.3652 - acc: 0.4272 - val_loss: 1.3362 - val_acc: 0.5769\n",
            "Epoch 2/35\n",
            "103/103 [==============================] - 3s 27ms/step - loss: 1.3225 - acc: 0.5243 - val_loss: 1.2789 - val_acc: 0.5769\n",
            "Epoch 3/35\n",
            "103/103 [==============================] - 3s 26ms/step - loss: 1.2579 - acc: 0.5631 - val_loss: 1.2073 - val_acc: 0.5769\n",
            "Epoch 4/35\n",
            "103/103 [==============================] - 3s 26ms/step - loss: 1.1756 - acc: 0.5340 - val_loss: 1.0985 - val_acc: 0.5769\n",
            "Epoch 5/35\n",
            "103/103 [==============================] - 3s 25ms/step - loss: 1.1055 - acc: 0.5340 - val_loss: 0.9637 - val_acc: 0.5769\n",
            "Epoch 6/35\n",
            "103/103 [==============================] - 3s 26ms/step - loss: 1.0183 - acc: 0.5340 - val_loss: 0.8588 - val_acc: 0.6538\n",
            "Epoch 7/35\n",
            "103/103 [==============================] - 3s 26ms/step - loss: 0.9269 - acc: 0.6214 - val_loss: 0.7720 - val_acc: 0.6538\n",
            "Epoch 8/35\n",
            "103/103 [==============================] - 3s 26ms/step - loss: 0.8184 - acc: 0.7087 - val_loss: 0.6737 - val_acc: 0.8462\n",
            "Epoch 9/35\n",
            "103/103 [==============================] - 3s 26ms/step - loss: 0.7296 - acc: 0.7573 - val_loss: 0.5928 - val_acc: 0.8462\n",
            "Epoch 10/35\n",
            "103/103 [==============================] - 3s 26ms/step - loss: 0.6993 - acc: 0.7282 - val_loss: 0.5601 - val_acc: 0.8077\n",
            "Epoch 11/35\n",
            "103/103 [==============================] - 3s 26ms/step - loss: 0.6479 - acc: 0.7767 - val_loss: 0.5452 - val_acc: 0.9231\n",
            "Epoch 12/35\n",
            "103/103 [==============================] - 3s 26ms/step - loss: 0.5846 - acc: 0.7476 - val_loss: 0.5083 - val_acc: 0.9231\n",
            "Epoch 13/35\n",
            "103/103 [==============================] - 3s 26ms/step - loss: 0.5673 - acc: 0.8058 - val_loss: 0.4687 - val_acc: 0.9615\n",
            "Epoch 14/35\n",
            "103/103 [==============================] - 3s 26ms/step - loss: 0.5444 - acc: 0.7961 - val_loss: 0.4323 - val_acc: 0.9615\n",
            "Epoch 15/35\n",
            "103/103 [==============================] - 3s 26ms/step - loss: 0.4527 - acc: 0.8932 - val_loss: 0.3921 - val_acc: 0.9615\n",
            "Epoch 16/35\n",
            "103/103 [==============================] - 3s 26ms/step - loss: 0.4840 - acc: 0.9029 - val_loss: 0.3505 - val_acc: 1.0000\n",
            "Epoch 17/35\n",
            "103/103 [==============================] - 3s 26ms/step - loss: 0.4063 - acc: 0.9126 - val_loss: 0.3086 - val_acc: 1.0000\n",
            "Epoch 18/35\n",
            "103/103 [==============================] - 3s 26ms/step - loss: 0.4169 - acc: 0.9029 - val_loss: 0.2782 - val_acc: 1.0000\n",
            "Epoch 19/35\n",
            "103/103 [==============================] - 3s 26ms/step - loss: 0.3258 - acc: 0.9515 - val_loss: 0.2437 - val_acc: 1.0000\n",
            "Epoch 20/35\n",
            "103/103 [==============================] - 3s 26ms/step - loss: 0.3445 - acc: 0.9223 - val_loss: 0.2168 - val_acc: 0.9615\n",
            "Epoch 21/35\n",
            "103/103 [==============================] - 3s 26ms/step - loss: 0.2785 - acc: 0.9515 - val_loss: 0.1775 - val_acc: 1.0000\n",
            "Epoch 22/35\n",
            "103/103 [==============================] - 3s 26ms/step - loss: 0.2676 - acc: 0.9223 - val_loss: 0.1501 - val_acc: 1.0000\n",
            "Epoch 23/35\n",
            "103/103 [==============================] - 3s 26ms/step - loss: 0.2415 - acc: 0.9515 - val_loss: 0.1273 - val_acc: 1.0000\n",
            "Epoch 24/35\n",
            "103/103 [==============================] - 3s 26ms/step - loss: 0.2135 - acc: 0.9612 - val_loss: 0.1083 - val_acc: 1.0000\n",
            "Epoch 25/35\n",
            "103/103 [==============================] - 3s 26ms/step - loss: 0.1790 - acc: 0.9612 - val_loss: 0.0855 - val_acc: 1.0000\n",
            "Epoch 26/35\n",
            "103/103 [==============================] - 3s 27ms/step - loss: 0.2104 - acc: 0.9417 - val_loss: 0.0766 - val_acc: 1.0000\n",
            "Epoch 27/35\n",
            "103/103 [==============================] - 3s 26ms/step - loss: 0.1624 - acc: 0.9709 - val_loss: 0.0785 - val_acc: 1.0000\n",
            "Epoch 28/35\n",
            "103/103 [==============================] - 3s 26ms/step - loss: 0.1342 - acc: 0.9806 - val_loss: 0.0678 - val_acc: 1.0000\n",
            "Epoch 29/35\n",
            "103/103 [==============================] - 3s 26ms/step - loss: 0.1444 - acc: 0.9806 - val_loss: 0.0571 - val_acc: 1.0000\n",
            "Epoch 30/35\n",
            "103/103 [==============================] - 3s 26ms/step - loss: 0.1020 - acc: 0.9806 - val_loss: 0.0451 - val_acc: 1.0000\n",
            "Epoch 31/35\n",
            "103/103 [==============================] - 3s 26ms/step - loss: 0.1103 - acc: 0.9903 - val_loss: 0.0352 - val_acc: 1.0000\n",
            "Epoch 32/35\n",
            "103/103 [==============================] - 3s 27ms/step - loss: 0.1276 - acc: 0.9709 - val_loss: 0.0333 - val_acc: 1.0000\n",
            "Epoch 33/35\n",
            "103/103 [==============================] - 3s 26ms/step - loss: 0.0800 - acc: 0.9903 - val_loss: 0.0328 - val_acc: 1.0000\n",
            "Epoch 34/35\n",
            "103/103 [==============================] - 3s 26ms/step - loss: 0.0698 - acc: 1.0000 - val_loss: 0.0301 - val_acc: 1.0000\n",
            "Epoch 35/35\n",
            "103/103 [==============================] - 3s 26ms/step - loss: 0.0974 - acc: 0.9709 - val_loss: 0.0259 - val_acc: 1.0000\n",
            "33/33 [==============================] - 0s 4ms/step\n"
          ],
          "name": "stdout"
        }
      ]
    },
    {
      "cell_type": "code",
      "metadata": {
        "id": "o1EJM2QsPavg",
        "colab_type": "code",
        "colab": {}
      },
      "source": [
        "def mainfunc(txt):\n",
        "   seq = tokenizer.texts_to_sequences(txt)\n",
        "   padded = sequence.pad_sequences(seq, maxlen=max_len)\n",
        "   pred = s_model.predict(padded)\n",
        "   labels = ['Prepaid', 'Electricity', 'DTH','Postpaid']\n",
        "   print(pred, labels[np.argmax(pred)])"
      ],
      "execution_count": 0,
      "outputs": []
    },
    {
      "cell_type": "code",
      "metadata": {
        "id": "DAp9JR9MZ9ng",
        "colab_type": "code",
        "outputId": "b40e8fe9-2ca6-47e7-bfb5-8f5f7b513b48",
        "colab": {
          "base_uri": "https://localhost:8080/",
          "height": 68
        }
      },
      "source": [
        "txt =[\"Recharge your suspended Airtel DigitalTV ID 3005294022 with your rental and watch all your package channels. Recharge Online or from nearest recharge dealer.\"]\n",
        "seq = tok.texts_to_sequences(txt)\n",
        "padded = sequence.pad_sequences(seq, maxlen=max_len)\n",
        "pred = model.predict(padded)\n",
        "print(pred)\n",
        "if(pred < 0.5):\n",
        "  print(\"Ham\")\n",
        "  mainfunc(txt)\n",
        "\n",
        "else:\n",
        "  print (\"Spam\")"
      ],
      "execution_count": 26,
      "outputs": [
        {
          "output_type": "stream",
          "text": [
            "[[0.20766842]]\n",
            "Ham\n",
            "[[0.03699675 0.02974504 0.9028018  0.03045639]] DTH\n"
          ],
          "name": "stdout"
        }
      ]
    },
    {
      "cell_type": "markdown",
      "metadata": {
        "id": "r_F-BFrDMiNW",
        "colab_type": "text"
      },
      "source": [
        ""
      ]
    }
  ]
}